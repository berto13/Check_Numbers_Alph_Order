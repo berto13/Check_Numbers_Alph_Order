{
 "cells": [
  {
   "cell_type": "code",
   "execution_count": 4,
   "metadata": {},
   "outputs": [],
   "source": [
    "#Import library to change number from integer to string\n",
    "import inflect\n",
    "p = inflect.engine()"
   ]
  },
  {
   "cell_type": "code",
   "execution_count": 20,
   "metadata": {},
   "outputs": [
    {
     "name": "stdout",
     "output_type": "stream",
     "text": [
      "Numbers with letter sorted in ascending alphabetical order:\n",
      "['forty']\n",
      "Numbers with letter sorted in descending alphabetical order:\n",
      "['one']\n"
     ]
    }
   ],
   "source": [
    "#create arrays for matches\n",
    "match_asc_order = []\n",
    "match_desc_order = []\n",
    "\n",
    "for i in range(100):\n",
    "    #convert number to words\n",
    "    word = p.number_to_words(i)\n",
    "    \n",
    "    #sort string alphabetically - ascending\n",
    "    w = sorted(word)\n",
    "    w_sorted_asc = ''.join(w)\n",
    "    #check if number match original form\n",
    "    asc_check_match = w_sorted_asc == word\n",
    "    if asc_check_match:\n",
    "        match_asc_order.append(word)\n",
    "    \n",
    "    #sort string alphabetically - descending\n",
    "    reversed_w = word[::-1]\n",
    "    w_sorted_desc = w_sorted_asc[::-1]\n",
    "    #check if number match original form\n",
    "    desc_check_match = w_sorted_desc == word\n",
    "    if desc_check_match:\n",
    "        match_desc_order.append(word)\n",
    "    \n",
    "#Print results\n",
    "print(\"Numbers with letter sorted in ascending alphabetical order:\")\n",
    "print(match_asc_order)\n",
    "print(\"Numbers with letter sorted in descending alphabetical order:\")\n",
    "print(match_desc_order)"
   ]
  },
  {
   "cell_type": "code",
   "execution_count": null,
   "metadata": {},
   "outputs": [],
   "source": []
  }
 ],
 "metadata": {
  "kernelspec": {
   "display_name": "Python 3",
   "language": "python",
   "name": "python3"
  },
  "language_info": {
   "codemirror_mode": {
    "name": "ipython",
    "version": 3
   },
   "file_extension": ".py",
   "mimetype": "text/x-python",
   "name": "python",
   "nbconvert_exporter": "python",
   "pygments_lexer": "ipython3",
   "version": "3.7.6"
  }
 },
 "nbformat": 4,
 "nbformat_minor": 4
}
